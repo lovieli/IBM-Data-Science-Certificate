{
  "metadata": {
    "kernelspec": {
      "name": "python",
      "display_name": "Python (Pyodide)",
      "language": "python"
    },
    "language_info": {
      "codemirror_mode": {
        "name": "python",
        "version": 3
      },
      "file_extension": ".py",
      "mimetype": "text/x-python",
      "name": "python",
      "nbconvert_exporter": "python",
      "pygments_lexer": "ipython3",
      "version": "3.8"
    }
  },
  "nbformat_minor": 4,
  "nbformat": 4,
  "cells": [
    {
      "cell_type": "markdown",
      "source": "<p style=\"text-align:center\">\n    <a href=\"https://skills.network\" target=\"_blank\">\n    <img src=\"https://cf-courses-data.s3.us.cloud-object-storage.appdomain.cloud/assets/logos/SN_web_lightmode.png\" width=\"300\" alt=\"Skills Network Logo\">\n    </a>\n</p>\n",
      "metadata": {}
    },
    {
      "cell_type": "markdown",
      "source": "# **Hands-on practice lab: Model Development**\n\nEstimated time needed: **45** minutes\n\nIn this lab, you will use the skills acquired in throughout the module, and use linear regression principles to create a model that predicts the Price of the laptop, based on one or more attributes of the dataset.\n",
      "metadata": {}
    },
    {
      "cell_type": "markdown",
      "source": "# Objectives\n\nAfter completing this lab you will be able to:\n\n - Use Linear Regression in one variable to fit the parameters to a model\n - Use Linear Regression in multiple variables to fit the parameters to a model\n - Use Polynomial Regression in single variable tofit the parameters to a model\n - Create a pipeline for performing linear regression using multiple features in polynomial scaling\n - Evaluate the performance of different forms of regression on basis of MSE and R^2 parameters\n",
      "metadata": {}
    },
    {
      "cell_type": "markdown",
      "source": "# Setup\n",
      "metadata": {}
    },
    {
      "cell_type": "markdown",
      "source": "For this lab, we will be using the following libraries:\n\n*   [`pandas`](https://pandas.pydata.org/?utm_medium=Exinfluencer&utm_source=Exinfluencer&utm_content=000026UJ&utm_term=10006555&utm_id=NA-SkillsNetwork-Channel-SkillsNetworkCoursesIBMML0187ENSkillsNetwork31430127-2021-01-01) for managing the data.\n*   [`numpy`](https://numpy.org/?utm_medium=Exinfluencer&utm_source=Exinfluencer&utm_content=000026UJ&utm_term=10006555&utm_id=NA-SkillsNetwork-Channel-SkillsNetworkCoursesIBMML0187ENSkillsNetwork31430127-2021-01-01) for mathematical operations.\n*   [`sklearn`](https://scikit-learn.org/stable/?utm_medium=Exinfluencer&utm_source=Exinfluencer&utm_content=000026UJ&utm_term=10006555&utm_id=NA-SkillsNetwork-Channel-SkillsNetworkCoursesIBMML0187ENSkillsNetwork31430127-2021-01-01) for machine learning and machine-learning-pipeline related functions.\n*   [`seaborn`](https://seaborn.pydata.org/?utm_medium=Exinfluencer&utm_source=Exinfluencer&utm_content=000026UJ&utm_term=10006555&utm_id=NA-SkillsNetwork-Channel-SkillsNetworkCoursesIBMML0187ENSkillsNetwork31430127-2021-01-01) for visualizing the data.\n*   [`matplotlib`](https://matplotlib.org/?utm_medium=Exinfluencer&utm_source=Exinfluencer&utm_content=000026UJ&utm_term=10006555&utm_id=NA-SkillsNetwork-Channel-SkillsNetworkCoursesIBMML0187ENSkillsNetwork31430127-2021-01-01) for additional plotting tools.\n",
      "metadata": {}
    },
    {
      "cell_type": "markdown",
      "source": "The following required libraries are __not__ pre-installed in the Skills Network Labs environment. __You will need to run the following cell__ to install them:\n",
      "metadata": {}
    },
    {
      "cell_type": "code",
      "source": "import piplite\nawait piplite.install('seaborn')",
      "metadata": {
        "trusted": true
      },
      "outputs": [],
      "execution_count": 1
    },
    {
      "cell_type": "markdown",
      "source": "### Importing Required Libraries\n\n_We recommend you import all required libraries in one place (here):_\n",
      "metadata": {}
    },
    {
      "cell_type": "code",
      "source": "import pandas as pd\nimport numpy as np\nimport matplotlib.pyplot as plt\nimport seaborn as sns\nfrom sklearn.linear_model import LinearRegression\nfrom sklearn.preprocessing import StandardScaler, PolynomialFeatures\nfrom sklearn.pipeline import Pipeline\nfrom sklearn.metrics import mean_squared_error, r2_score\nimport warnings\nwarnings.filterwarnings(\"ignore\", category=UserWarning) \n%matplotlib inline",
      "metadata": {
        "trusted": true
      },
      "outputs": [],
      "execution_count": 2
    },
    {
      "cell_type": "markdown",
      "source": "### Importing the dataset\nRun the cell below to download the dataset into this environment.\n\nThis function will download the dataset into your browser\n",
      "metadata": {}
    },
    {
      "cell_type": "code",
      "source": "#This function will download the dataset into your browser \n\nfrom pyodide.http import pyfetch\n\nasync def download(url, filename):\n    response = await pyfetch(url)\n    if response.status == 200:\n        with open(filename, \"wb\") as f:\n            f.write(await response.bytes())",
      "metadata": {
        "trusted": true
      },
      "outputs": [],
      "execution_count": 3
    },
    {
      "cell_type": "markdown",
      "source": "We put the file path along with a quotation mark so that pandas will read the file into a dataframe from that address. The file path can be either an URL or your local file address.\n",
      "metadata": {}
    },
    {
      "cell_type": "code",
      "source": "path = \"https://cf-courses-data.s3.us.cloud-object-storage.appdomain.cloud/IBMDeveloperSkillsNetwork-DA0101EN-Coursera/laptop_pricing_dataset_mod2.csv\"",
      "metadata": {
        "trusted": true
      },
      "outputs": [],
      "execution_count": 4
    },
    {
      "cell_type": "markdown",
      "source": "You will need to download the dataset using the download() function:\n",
      "metadata": {}
    },
    {
      "cell_type": "code",
      "source": "#you will need to download the dataset;\nawait download(path, \"laptops.csv\")\nfile_name=\"laptops.csv\"",
      "metadata": {
        "trusted": true
      },
      "outputs": [],
      "execution_count": 5
    },
    {
      "cell_type": "markdown",
      "source": "Load the dataset into a pandas dataframe\n",
      "metadata": {}
    },
    {
      "cell_type": "code",
      "source": "df = pd.read_csv(file_name, header=0)",
      "metadata": {
        "trusted": true
      },
      "outputs": [],
      "execution_count": 6
    },
    {
      "cell_type": "markdown",
      "source": ">Note: This version of the lab is working on JupyterLite, which requires the dataset to be downloaded to the interface.While working on the downloaded version of this notebook on their local machines(Jupyter Anaconda), the learners can simply skip the steps above, and simply use the URL directly in the pandas.read_csv() function. You can uncomment and run the statements in the cell below.\n",
      "metadata": {}
    },
    {
      "cell_type": "code",
      "source": "#https://cf-courses-data.s3.us.cloud-object-storage.appdomain.cloud/IBMDeveloperSkillsNetwork-DA0101EN-Coursera/laptop_pricing_dataset_mod2.csv\"\n#df = pd.read_csv(filepath, header=None)",
      "metadata": {},
      "outputs": [],
      "execution_count": null
    },
    {
      "cell_type": "code",
      "source": "# show the first 5 rows using dataframe.head() method\nprint(\"The first 5 rows of the dataframe\") \ndf.head(5)",
      "metadata": {
        "trusted": true
      },
      "outputs": [
        {
          "name": "stdout",
          "text": "The first 5 rows of the dataframe\n",
          "output_type": "stream"
        },
        {
          "execution_count": 12,
          "output_type": "execute_result",
          "data": {
            "text/plain": "(238, 16)"
          },
          "metadata": {}
        }
      ],
      "execution_count": 12
    },
    {
      "cell_type": "markdown",
      "source": "# Task 1 : Single Linear Regression\n\nYou have learnt that \"CPU_frequency\" is the parameter with the lowest p-value among the different features of the dataset. Create a single feature Linear Regression model that fits the pair of \"CPU_frequency\" and \"Price\" to find the model for prediction.\n",
      "metadata": {}
    },
    {
      "cell_type": "code",
      "source": "# Write your code below and press Shift+Enter to execute \nmodel1 = LinearRegression()\nfeatures = ['CPU_frequency']\ntarget = 'Price'\nmodel1.fit(df[features],df[target])\npred = model1.predict(df[features])",
      "metadata": {
        "trusted": true
      },
      "outputs": [],
      "execution_count": 11
    },
    {
      "cell_type": "markdown",
      "source": "<details>\n    <summary>Click here for Solution</summary>\n\n```python\nlm = LinearRegression()\n\nX = df[['CPU_frequency']]\nY = df['Price']\n\nlm.fit(X,Y)\n\nYhat=lm.predict(X)\n```\n\n</details>\n",
      "metadata": {}
    },
    {
      "cell_type": "markdown",
      "source": "Generate the Distribution plot for the predicted values and that of the actual values. How well did the model perform?\n",
      "metadata": {}
    },
    {
      "cell_type": "code",
      "source": "# Write your code below and press Shift+Enter to execute \nwidth = 6\nheight = 5\nplt.figure(figsize = (width,height))\nsns.distplot(df[target],hist=False, color = \"k\", label = \"actual value\")\nsns.distplot(pred, hist=False, color = \"r\",label = \"predicted value\")\nplt.show()\nplt.close()",
      "metadata": {
        "trusted": true
      },
      "outputs": [
        {
          "output_type": "display_data",
          "data": {
            "text/plain": "<Figure size 600x500 with 1 Axes>",
            "image/png": "[encoded data removed]"
          },
          "metadata": {}
        }
      ],
      "execution_count": 16
    },
    {
      "cell_type": "markdown",
      "source": "<details>\n    <summary>Click here for Solution</summary>\n\n```python\nax1 = sns.distplot(df['Price'], hist=False, color=\"r\", label=\"Actual Value\")\n\n# Create a distribution plot for predicted values\nsns.distplot(Yhat, hist=False, color=\"b\", label=\"Fitted Values\" , ax=ax1)\n\nplt.title('Actual vs Fitted Values for Price')\nplt.xlabel('Price')\nplt.ylabel('Proportion of laptops')\nplt.legend(['Actual Value', 'Predicted Value'])\nplt.show()\n```\n\n</details>\n",
      "metadata": {}
    },
    {
      "cell_type": "markdown",
      "source": "Evaluate the Mean Squared Error and R^2 score values for the model. \n",
      "metadata": {}
    },
    {
      "cell_type": "code",
      "source": "# Write your code below and press Shift+Enter to execute \nmse_m1 = mean_squared_error(df[target],pred)\nprint('the MSE of price and predicted value is: ', mse_m1)\n#r2_m1 = r2_score(df[target],pred)\nr2_m1 = model1.score(df[features],df[target])\nprint('the R squared value is: ', r2_m1)",
      "metadata": {
        "trusted": true
      },
      "outputs": [
        {
          "name": "stdout",
          "text": "the MSE of price and predicted value is:  284583.44058686297\nthe R squared value is:  0.13444363210243238\n",
          "output_type": "stream"
        }
      ],
      "execution_count": 20
    },
    {
      "cell_type": "markdown",
      "source": "<details>\n    <summary>Click here for Solution</summary>\n\n```python\nmse_slr = mean_squared_error(df['Price'], Yhat)\nr2_score_slr = lm.score(X, Y)\nprint('The R-square for Linear Regression is: ', r2_score_slr)\nprint('The mean square error of price and predicted value is: ', mse_slr)\n```\n\n</details>\n",
      "metadata": {}
    },
    {
      "cell_type": "markdown",
      "source": "# Task 2 - Multiple Linear Regression\nThe parameters which have a low enough p-value so as to indicate strong relationship with the 'Price' value are 'CPU_frequency', 'RAM_GB', 'Storage_GB_SSD', 'CPU_core', 'OS', 'GPU' and 'Category'. Use all these variables to create a Multiple Linear Regression system. \n",
      "metadata": {}
    },
    {
      "cell_type": "code",
      "source": "# Write your code below and press Shift+Enter to execute \nfeatures2 = ['CPU_frequency', 'RAM_GB', 'Storage_GB_SSD', 'CPU_core', 'OS', 'GPU', 'Category']\nmodel2 = LinearRegression()\nmodel2.fit(df[features2],df[target])\npred2 = model2.predict(df[features2])",
      "metadata": {
        "trusted": true
      },
      "outputs": [],
      "execution_count": 23
    },
    {
      "cell_type": "markdown",
      "source": "<details>\n    <summary>Click here for Solution</summary>\n\n```python\nlm1 = LinearRegression()\nZ = df[['CPU_frequency','RAM_GB','Storage_GB_SSD','CPU_core','OS','GPU','Category']]\nlm1.fit(Z,Y)\nY_hat = lm1.predict(Z)\n```\n\n</details>\n",
      "metadata": {}
    },
    {
      "cell_type": "markdown",
      "source": "Plot the Distribution graph of the predicted values as well as the Actual values\n",
      "metadata": {}
    },
    {
      "cell_type": "code",
      "source": "# Write your code below and press Shift+Enter to execute\nplt.figure(figsize = (width,height))\nsns.distplot(df[target],hist=False, color = \"k\",label = \"actual value\")\nsns.distplot(pred2,hist=False, color = \"r\",label = \"predicted value\")\nplt.show()\nplt.close()",
      "metadata": {
        "trusted": true
      },
      "outputs": [
        {
          "output_type": "display_data",
          "data": {
            "text/plain": "<Figure size 600x500 with 1 Axes>",
            "image/png": "[encoded data removed]"
          },
          "metadata": {}
        }
      ],
      "execution_count": 26
    },
    {
      "cell_type": "markdown",
      "source": "<details>\n    <summary>Click here for Solution</summary>\n\n```python\nax1 = sns.distplot(df['Price'], hist=False, color=\"r\", label=\"Actual Value\")\nsns.distplot(Y_hat, hist=False, color=\"b\", label=\"Fitted Values\" , ax=ax1)\n\nplt.title('Actual vs Fitted Values for Price')\nplt.xlabel('Price')\nplt.ylabel('Proportion of laptops')\n\n```\n\n</details>\n",
      "metadata": {}
    },
    {
      "cell_type": "markdown",
      "source": "Find the R^2 score and the MSE value for this fit. Is this better or worst than the performance of Single Linear Regression?\n",
      "metadata": {}
    },
    {
      "cell_type": "code",
      "source": "# Write your code below and press Shift+Enter to execute\nmse_m2 = mean_squared_error(df[target],pred2)\nprint('the MSE of price and predicted value is: ', mse_m2)\n#r2_m1 = r2_score(df[target],pred)\nr2_m2 = model2.score(df[features2],df[target])\nprint('the R squared value is: ', r2_m2)",
      "metadata": {
        "trusted": true
      },
      "outputs": [
        {
          "name": "stdout",
          "text": "the MSE of price and predicted value is:  161680.57263893107\nthe R squared value is:  0.5082509055187374\n",
          "output_type": "stream"
        }
      ],
      "execution_count": 27
    },
    {
      "cell_type": "markdown",
      "source": "<details>\n    <summary>Click here for Solution</summary>\n\n```python\nax2 = sns.distplot(df['Price'], hist=False, color=\"r\", label=\"Actual Value\")\nsns.distplot(Y_hat, hist=False, color=\"b\", label=\"Fitted Values\" , ax=ax2)\n\nplt.title('Actual vs Fitted Values for Price')\nplt.xlabel('Price')\nplt.ylabel('Proportion of laptops')\n```\n\n</details>\n",
      "metadata": {}
    },
    {
      "cell_type": "markdown",
      "source": "# Task 3 - Polynomial Regression\nUse the variable \"CPU_frequency\" to create Polynomial features. Try this for 3 different values of polynomial degrees. Remember that polynomial fits are done using `numpy.polyfit`. \n",
      "metadata": {}
    },
    {
      "cell_type": "code",
      "source": "#  Write your code below and press Shift+Enter to execute\nfeatures3 = 'CPU_frequency'\nfor order in [2,4,6]:\n    fit = np.polyfit(df[features3],df[target],order)\n    model = np.poly1d(fit)\n    pred = model(df[features3])\n    print(f\"order = {order}:\")\n    print(model)\n\n    PlotPolly(model,df[features3],df[target],'CPU frequency price prediction')\n\n    mse = mean_squared_error(df[target],pred)\n    print(f'the MSE of price and predicted value with the order of {order} is: {mse}')\n    r2 = r2_score(df[target],pred)\n    print(f'the R squared value with the order of {order} is: {r2}')",
      "metadata": {
        "trusted": true
      },
      "outputs": [
        {
          "name": "stdout",
          "text": "order = 2:\n           2\n1.191e+04 x - 1.643e+04 x + 6703\nthe MSE of price and predicted value with the order of 2 is: 249022.66596751177\nthe R squared value with the order of 2 is: 0.24260120745423763\norder = 4:\n           4             3             2\n1.552e+05 x - 4.162e+05 x + 4.134e+05 x - 1.798e+05 x + 3.008e+04\nthe MSE of price and predicted value with the order of 4 is: 237104.55794318888\nthe R squared value with the order of 4 is: 0.27884995851463223\norder = 6:\n           6             5            4             3             2\n8.105e+06 x - 3.407e+07 x + 5.88e+07 x - 5.328e+07 x + 2.669e+07 x - 7.004e+06 x + 7.526e+05\nthe MSE of price and predicted value with the order of 6 is: 226029.42851587167\nthe R squared value with the order of 6 is: 0.31253480251446497\n",
          "output_type": "stream"
        }
      ],
      "execution_count": 36
    },
    {
      "cell_type": "markdown",
      "source": "<details>\n    <summary>Click here for Solution</summary>\n\n```python\nX = X.to_numpy().flatten()\nf1 = np.polyfit(X, Y, 1)\np1 = np.poly1d(f1)\n\nf3 = np.polyfit(X, Y, 3)\np3 = np.poly1d(f3)\n\nf5 = np.polyfit(X, Y, 5)\np5 = np.poly1d(f5)\n```\n\n</details>\n",
      "metadata": {}
    },
    {
      "cell_type": "markdown",
      "source": "Plot the regression output against the actual data points to note how the data fits in each case. To plot the polynomial response over the actual data points, you have the function shown below.\n",
      "metadata": {}
    },
    {
      "cell_type": "code",
      "source": "def PlotPolly(model, independent_variable, dependent_variabble, Name):\n    x_new = np.linspace(independent_variable.min(),independent_variable.max(),100)\n    y_new = model(x_new)\n    plt.figure()\n    plt.plot(independent_variable, dependent_variabble, '.', x_new, y_new, '-')\n    plt.title(f'Polynomial Fit for Price ~ {Name}')\n    ax = plt.gca()\n    ax.set_facecolor((0.898, 0.898, 0.898))\n    fig = plt.gcf()\n    plt.xlabel(Name)\n    plt.ylabel('Price of laptops')\n    plt.close()",
      "metadata": {
        "trusted": true
      },
      "outputs": [],
      "execution_count": 34
    },
    {
      "cell_type": "markdown",
      "source": "Call this function for the 3 models created and get the required graphs.\n",
      "metadata": {}
    },
    {
      "cell_type": "code",
      "source": "#  Write your code below and press Shift+Enter to execute\n# Call for function of degree 1\n",
      "metadata": {},
      "outputs": [],
      "execution_count": null
    },
    {
      "cell_type": "markdown",
      "source": "<details>\n    <summary>Click here for Solution</summary>\n    \n```python\nPlotPolly(p1, X, Y, 'CPU_frequency')\n```\n\n</details>\n",
      "metadata": {}
    },
    {
      "cell_type": "code",
      "source": "#  Write your code below and press Shift+Enter to execute\n# Call for function of degree 3\n",
      "metadata": {},
      "outputs": [],
      "execution_count": null
    },
    {
      "cell_type": "markdown",
      "source": "<details>\n    <summary>Click here for Solution</summary>\n    \n```python\nPlotPolly(p3, X, Y, 'CPU_frequency')\n```\n\n</details>\n",
      "metadata": {}
    },
    {
      "cell_type": "code",
      "source": "#  Write your code below and press Shift+Enter to execute\n# Call for function of degree 5\n",
      "metadata": {},
      "outputs": [],
      "execution_count": null
    },
    {
      "cell_type": "markdown",
      "source": "<details>\n    <summary>Click here for Solution</summary>\n    \n```python\nPlotPolly(p5, X, Y, 'CPU_frequency')\n```\n\n</details>\n",
      "metadata": {}
    },
    {
      "cell_type": "markdown",
      "source": "Also, calculate the R^2 and MSE values for these fits. For polynomial functions, the function sklearn.metrics.r2_score will be used to calculate R^2 values.\n",
      "metadata": {}
    },
    {
      "cell_type": "code",
      "source": "#  Write your code below and press Shift+Enter to execute\n",
      "metadata": {},
      "outputs": [],
      "execution_count": null
    },
    {
      "cell_type": "markdown",
      "source": "<details>\n    <summary>Click here for Solution</summary>\n    \n```python\nr_squared_1 = r2_score(Y, p1(X))\nprint('The R-square value for 1st degree polynomial is: ', r_squared_1)\nprint('The MSE value for 1st degree polynomial is: ', mean_squared_error(Y,p1(X)))\nr_squared_3 = r2_score(Y, p3(X))\nprint('The R-square value for 3rd degree polynomial is: ', r_squared_3)\nprint('The MSE value for 3rd degree polynomial is: ', mean_squared_error(Y,p3(X)))\nr_squared_5 = r2_score(Y, p5(X))\nprint('The R-square value for 5th degree polynomial is: ', r_squared_5)\nprint('The MSE value for 5th degree polynomial is: ', mean_squared_error(Y,p5(X)))\n```\n\n</details>\n",
      "metadata": {}
    },
    {
      "cell_type": "markdown",
      "source": "# Task 4 - Pipeline\nCreate a pipeline that performs parameter scaling, Polynomial Feature generation and Linear regression. Use the set of multiple features as before to create this pipeline. \n",
      "metadata": {}
    },
    {
      "cell_type": "code",
      "source": "#  Write your code below and press Shift+Enter to execute\ninput = [('scale',StandardScaler()),('polynomial',PolynomialFeatures(include_bias=False)),('model',LinearRegression())]\npipe = Pipeline(input)\npipe.fit(df[features2].astype(float),df[target])\npred = pipe.predict(df[features2])",
      "metadata": {
        "trusted": true
      },
      "outputs": [],
      "execution_count": 42
    },
    {
      "cell_type": "markdown",
      "source": "<details>\n    <summary>Click here for Solution</summary>\n    \n```python\nInput=[('scale',StandardScaler()), ('polynomial', PolynomialFeatures(include_bias=False)), ('model',LinearRegression())]\npipe=Pipeline(Input)\nZ = Z.astype(float)\npipe.fit(Z,Y)\nypipe=pipe.predict(Z)\n```\n\n</details>\n",
      "metadata": {}
    },
    {
      "cell_type": "markdown",
      "source": "Evaluate the MSE and R^2 values for the this predicted output.\n",
      "metadata": {}
    },
    {
      "cell_type": "code",
      "source": "#  Write your code below and press Shift+Enter to execute\n",
      "metadata": {},
      "outputs": [],
      "execution_count": null
    },
    {
      "cell_type": "markdown",
      "source": "<details>\n    <summary>Click here for Solution</summary>\n    \n```python\nprint('MSE for multi-variable polynomial pipeline is: ', mean_squared_error(Y, ypipe))\nprint('R^2 for multi-variable polynomial pipeline is: ', r2_score(Y, ypipe))\n\n```\n\n</details>\n",
      "metadata": {}
    },
    {
      "cell_type": "markdown",
      "source": "You should now have seen that the values of R^2 increase as we go from Single Linear Regression to Multiple Linear Regression. Further, if we go for multiple linear regression extended with polynomial features, we get an even better R^2 value.\n",
      "metadata": {}
    },
    {
      "cell_type": "markdown",
      "source": "# Congratulations! You have completed the lab\n",
      "metadata": {}
    },
    {
      "cell_type": "markdown",
      "source": "## Authors\n",
      "metadata": {}
    },
    {
      "cell_type": "markdown",
      "source": "[Abhishek Gagneja](https://www.coursera.org/instructor/~129186572)\n\n[Vicky Kuo](https://author.skills.network/instructors/vicky_kuo)\n",
      "metadata": {}
    },
    {
      "cell_type": "markdown",
      "source": "## Change Log\n",
      "metadata": {}
    },
    {
      "cell_type": "markdown",
      "source": "|Date (YYYY-MM-DD)|Version|Changed By|Change Description|\n|-|-|-|-|\n|2023-09-16|0.1|Abhishek Gagneja|Initial Version Created|\n|2023-09-19|0.2|Vicky Kuo|Reviewed and Revised|\n",
      "metadata": {}
    },
    {
      "cell_type": "markdown",
      "source": "Copyright © 2023 IBM Corporation. All rights reserved.\n",
      "metadata": {}
    }
  ]
}